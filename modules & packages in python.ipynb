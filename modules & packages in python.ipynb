{
 "cells": [
  {
   "cell_type": "markdown",
   "id": "c79cb499",
   "metadata": {},
   "source": [
    "# packages\n",
    "group of  python file contains functions,attrbutes,classes consructed for some purpose.\n",
    "- pre defined/built in\n",
    "- user defined/3rd party packages\n",
    "\n",
    "# modules\n",
    "single python file contains functions,attrbutes,classes consructed for some purpose.\n",
    "\n",
    "## advantage\n",
    "- reducing the complexity of application\n",
    "- user readability\n",
    "- reusagability\n",
    "\n",
    "## predefined/built-in\n"
   ]
  },
  {
   "cell_type": "code",
   "execution_count": 1,
   "id": "8ee01df1",
   "metadata": {},
   "outputs": [],
   "source": [
    "import math"
   ]
  },
  {
   "cell_type": "code",
   "execution_count": 2,
   "id": "2386a9f8",
   "metadata": {},
   "outputs": [
    {
     "name": "stdout",
     "output_type": "stream",
     "text": [
      "This module provides access to the mathematical functions\n",
      "defined by the C standard.\n"
     ]
    }
   ],
   "source": [
    "print(math.__doc__)"
   ]
  },
  {
   "cell_type": "code",
   "execution_count": 3,
   "id": "08c584cd",
   "metadata": {},
   "outputs": [
    {
     "data": {
      "text/plain": [
       "['__doc__',\n",
       " '__loader__',\n",
       " '__name__',\n",
       " '__package__',\n",
       " '__spec__',\n",
       " 'acos',\n",
       " 'acosh',\n",
       " 'asin',\n",
       " 'asinh',\n",
       " 'atan',\n",
       " 'atan2',\n",
       " 'atanh',\n",
       " 'ceil',\n",
       " 'comb',\n",
       " 'copysign',\n",
       " 'cos',\n",
       " 'cosh',\n",
       " 'degrees',\n",
       " 'dist',\n",
       " 'e',\n",
       " 'erf',\n",
       " 'erfc',\n",
       " 'exp',\n",
       " 'expm1',\n",
       " 'fabs',\n",
       " 'factorial',\n",
       " 'floor',\n",
       " 'fmod',\n",
       " 'frexp',\n",
       " 'fsum',\n",
       " 'gamma',\n",
       " 'gcd',\n",
       " 'hypot',\n",
       " 'inf',\n",
       " 'isclose',\n",
       " 'isfinite',\n",
       " 'isinf',\n",
       " 'isnan',\n",
       " 'isqrt',\n",
       " 'ldexp',\n",
       " 'lgamma',\n",
       " 'log',\n",
       " 'log10',\n",
       " 'log1p',\n",
       " 'log2',\n",
       " 'modf',\n",
       " 'nan',\n",
       " 'perm',\n",
       " 'pi',\n",
       " 'pow',\n",
       " 'prod',\n",
       " 'radians',\n",
       " 'remainder',\n",
       " 'sin',\n",
       " 'sinh',\n",
       " 'sqrt',\n",
       " 'tan',\n",
       " 'tanh',\n",
       " 'tau',\n",
       " 'trunc']"
      ]
     },
     "execution_count": 3,
     "metadata": {},
     "output_type": "execute_result"
    }
   ],
   "source": [
    "dir(math)"
   ]
  },
  {
   "cell_type": "code",
   "execution_count": 4,
   "id": "ca13321e",
   "metadata": {},
   "outputs": [
    {
     "name": "stdout",
     "output_type": "stream",
     "text": [
      "3.141592653589793\n"
     ]
    }
   ],
   "source": [
    "print(math.pi)  #moduleName/packageName.fun/attributeName"
   ]
  },
  {
   "cell_type": "code",
   "execution_count": 5,
   "id": "21dbf886",
   "metadata": {},
   "outputs": [
    {
     "name": "stdout",
     "output_type": "stream",
     "text": [
      "0.8939966636005579\n"
     ]
    }
   ],
   "source": [
    "print(math.sin(90))  #moduleName/packageName.fun/attributeName"
   ]
  },
  {
   "cell_type": "code",
   "execution_count": 7,
   "id": "b3be71d8",
   "metadata": {},
   "outputs": [
    {
     "name": "stdout",
     "output_type": "stream",
     "text": [
      "57133839564458545904789328652610540031895535786011264182548375833179829124845398393126574488675311145377107878746854204162666250198684504466355949195922066574942592095735778929325357290444962472405416790722118445437122269675520000000000000000000000000000000000000\n"
     ]
    }
   ],
   "source": [
    "print(math.factorial(150))  #moduleName/packageName.fun/attributeName"
   ]
  },
  {
   "cell_type": "code",
   "execution_count": 8,
   "id": "9779c66b",
   "metadata": {},
   "outputs": [
    {
     "name": "stdout",
     "output_type": "stream",
     "text": [
      "5.0\n"
     ]
    }
   ],
   "source": [
    "print(math.dist((1,3),(5,6)))  #moduleName/packageName.fun/attributeName"
   ]
  },
  {
   "cell_type": "code",
   "execution_count": 1,
   "id": "74c29897",
   "metadata": {},
   "outputs": [],
   "source": [
    "import random"
   ]
  },
  {
   "cell_type": "code",
   "execution_count": 2,
   "id": "8e695725",
   "metadata": {},
   "outputs": [
    {
     "name": "stdout",
     "output_type": "stream",
     "text": [
      "0.7263907744951568\n"
     ]
    }
   ],
   "source": [
    "print(random.random())"
   ]
  },
  {
   "cell_type": "code",
   "execution_count": 3,
   "id": "a7356d1b",
   "metadata": {},
   "outputs": [
    {
     "name": "stdout",
     "output_type": "stream",
     "text": [
      "0.5765862172108293\n"
     ]
    }
   ],
   "source": [
    "print(random.random())"
   ]
  },
  {
   "cell_type": "code",
   "execution_count": 4,
   "id": "af394f20",
   "metadata": {},
   "outputs": [
    {
     "name": "stdout",
     "output_type": "stream",
     "text": [
      "0.87\n"
     ]
    }
   ],
   "source": [
    "print(round(random.random(),2))"
   ]
  },
  {
   "cell_type": "code",
   "execution_count": 5,
   "id": "faaf579f",
   "metadata": {},
   "outputs": [
    {
     "name": "stdout",
     "output_type": "stream",
     "text": [
      "6 5\n"
     ]
    }
   ],
   "source": [
    "a=5.5\n",
    "ceil=6\n",
    "floor=5\n",
    "import math\n",
    "print(math.ceil(5.5),math.floor(5.5))"
   ]
  },
  {
   "cell_type": "code",
   "execution_count": 6,
   "id": "38df8d5e",
   "metadata": {},
   "outputs": [
    {
     "data": {
      "text/plain": [
       "0.09033985426934954"
      ]
     },
     "execution_count": 6,
     "metadata": {},
     "output_type": "execute_result"
    }
   ],
   "source": [
    "random.seed(55)\n",
    "random.random()"
   ]
  },
  {
   "cell_type": "code",
   "execution_count": 10,
   "id": "afaaeb27",
   "metadata": {},
   "outputs": [
    {
     "name": "stdout",
     "output_type": "stream",
     "text": [
      "5 5\n"
     ]
    }
   ],
   "source": [
    "print(math.ceil(4.4),math.floor(5.7))"
   ]
  },
  {
   "cell_type": "code",
   "execution_count": 11,
   "id": "0873e2e6",
   "metadata": {},
   "outputs": [
    {
     "data": {
      "text/plain": [
       "'Return random integer in range [a, b], including both end points.\\n        '"
      ]
     },
     "execution_count": 11,
     "metadata": {},
     "output_type": "execute_result"
    }
   ],
   "source": [
    "random.randint.__doc__"
   ]
  },
  {
   "cell_type": "code",
   "execution_count": 16,
   "id": "a2f60ef7",
   "metadata": {},
   "outputs": [
    {
     "name": "stdout",
     "output_type": "stream",
     "text": [
      "38\n"
     ]
    }
   ],
   "source": [
    "print(random.randint(0,100))"
   ]
  },
  {
   "cell_type": "code",
   "execution_count": 19,
   "id": "2d57d69e",
   "metadata": {},
   "outputs": [
    {
     "name": "stdout",
     "output_type": "stream",
     "text": [
      "5\n"
     ]
    }
   ],
   "source": [
    "print(random.randint(0,6))"
   ]
  },
  {
   "cell_type": "code",
   "execution_count": 20,
   "id": "99a112ed",
   "metadata": {},
   "outputs": [
    {
     "name": "stdout",
     "output_type": "stream",
     "text": [
      "1\n",
      "2\n",
      "0\n",
      "2\n",
      "5\n",
      "6\n"
     ]
    }
   ],
   "source": [
    "for i in range(6):\n",
    "    print(random.randint(0,6))"
   ]
  },
  {
   "cell_type": "code",
   "execution_count": 24,
   "id": "5e974a20",
   "metadata": {},
   "outputs": [
    {
     "name": "stdout",
     "output_type": "stream",
     "text": [
      "65 90\n"
     ]
    }
   ],
   "source": [
    "print(ord('A'),ord('Z'))     # ord generates ASCII value"
   ]
  },
  {
   "cell_type": "code",
   "execution_count": 25,
   "id": "bc2aad71",
   "metadata": {},
   "outputs": [
    {
     "name": "stdout",
     "output_type": "stream",
     "text": [
      "82\n",
      "89\n",
      "85\n",
      "66\n",
      "85\n",
      "73\n",
      "66\n",
      "72\n",
      "81\n",
      "87\n"
     ]
    }
   ],
   "source": [
    "for i in range(10):\n",
    "    print(random.randint(65,90))"
   ]
  },
  {
   "cell_type": "code",
   "execution_count": 28,
   "id": "5e7b7e65",
   "metadata": {},
   "outputs": [
    {
     "name": "stdout",
     "output_type": "stream",
     "text": [
      "head\n"
     ]
    }
   ],
   "source": [
    "li=['head','tail']\n",
    "print(random.choice(li))"
   ]
  },
  {
   "cell_type": "code",
   "execution_count": 33,
   "id": "7962bcd2",
   "metadata": {},
   "outputs": [
    {
     "name": "stdout",
     "output_type": "stream",
     "text": [
      "head\n",
      "head\n",
      "tail\n",
      "head\n",
      "tail\n",
      "tail\n"
     ]
    }
   ],
   "source": [
    "li=['head','tail']\n",
    "for i in range(6):\n",
    "     print(random.choice(li))"
   ]
  },
  {
   "cell_type": "code",
   "execution_count": 35,
   "id": "226e5d67",
   "metadata": {},
   "outputs": [
    {
     "name": "stdout",
     "output_type": "stream",
     "text": [
      "[7, 1, 4, 6, 2, 5, 3]\n"
     ]
    }
   ],
   "source": [
    "li=[1,2,3,4,5,6,7]\n",
    "random.shuffle(li)\n",
    "print(li)"
   ]
  },
  {
   "cell_type": "code",
   "execution_count": 36,
   "id": "767b0f1d",
   "metadata": {},
   "outputs": [
    {
     "name": "stdout",
     "output_type": "stream",
     "text": [
      "0.3872506670502807\n"
     ]
    }
   ],
   "source": [
    "# random.gauss(mu,std) -> mu=mean,sigma=std\n",
    "\n",
    "print(random.gauss(0,1))"
   ]
  },
  {
   "cell_type": "code",
   "execution_count": 38,
   "id": "efdd227b",
   "metadata": {},
   "outputs": [
    {
     "name": "stdout",
     "output_type": "stream",
     "text": [
      "7.770121923165504\n",
      "7.201119557371701\n",
      "6.508695357901125\n",
      "5.650937364521676\n",
      "8.489430126489571\n",
      "7.07556936240553\n",
      "7.3484032446838405\n",
      "8.013393459511793\n",
      "5.534821614600508\n",
      "9.08861565059324\n"
     ]
    }
   ],
   "source": [
    "for i in range(10):\n",
    "     print(random.uniform(5,10))"
   ]
  },
  {
   "cell_type": "code",
   "execution_count": 39,
   "id": "5a854d61",
   "metadata": {},
   "outputs": [
    {
     "data": {
      "text/plain": [
       "2"
      ]
     },
     "execution_count": 39,
     "metadata": {},
     "output_type": "execute_result"
    }
   ],
   "source": [
    "random.randrange(1,15)"
   ]
  },
  {
   "cell_type": "code",
   "execution_count": 41,
   "id": "881fb9b9",
   "metadata": {},
   "outputs": [],
   "source": [
    "import calendar"
   ]
  },
  {
   "cell_type": "code",
   "execution_count": 44,
   "id": "aa9f0a9a",
   "metadata": {},
   "outputs": [
    {
     "name": "stdout",
     "output_type": "stream",
     "text": [
      "      May 2021\n",
      "Mo Tu We Th Fr Sa Su\n",
      "                1  2\n",
      " 3  4  5  6  7  8  9\n",
      "10 11 12 13 14 15 16\n",
      "17 18 19 20 21 22 23\n",
      "24 25 26 27 28 29 30\n",
      "31\n",
      "\n"
     ]
    }
   ],
   "source": [
    "print(calendar.month(2021,5))"
   ]
  },
  {
   "cell_type": "code",
   "execution_count": 45,
   "id": "e885c6b4",
   "metadata": {},
   "outputs": [
    {
     "name": "stdout",
     "output_type": "stream",
     "text": [
      "     July 2021\n",
      "Mo Tu We Th Fr Sa Su\n",
      "          1  2  3  4\n",
      " 5  6  7  8  9 10 11\n",
      "12 13 14 15 16 17 18\n",
      "19 20 21 22 23 24 25\n",
      "26 27 28 29 30 31\n",
      "\n"
     ]
    }
   ],
   "source": [
    "print(calendar.month(2021,7))"
   ]
  },
  {
   "cell_type": "code",
   "execution_count": 1,
   "id": "ef262506",
   "metadata": {},
   "outputs": [
    {
     "name": "stdout",
     "output_type": "stream",
     "text": [
      "['Calendar', 'EPOCH', 'FRIDAY', 'February', 'HTMLCalendar', 'IllegalMonthError', 'IllegalWeekdayError', 'January', 'LocaleHTMLCalendar', 'LocaleTextCalendar', 'MONDAY', 'SATURDAY', 'SUNDAY', 'THURSDAY', 'TUESDAY', 'TextCalendar', 'WEDNESDAY', '_EPOCH_ORD', '__all__', '__builtins__', '__cached__', '__doc__', '__file__', '__loader__', '__name__', '__package__', '__spec__', '_colwidth', '_locale', '_localized_day', '_localized_month', '_monthlen', '_nextmonth', '_prevmonth', '_spacing', 'c', 'calendar', 'datetime', 'day_abbr', 'day_name', 'different_locale', 'error', 'firstweekday', 'format', 'formatstring', 'isleap', 'leapdays', 'main', 'mdays', 'month', 'month_abbr', 'month_name', 'monthcalendar', 'monthrange', 'prcal', 'prmonth', 'prweek', 'repeat', 'setfirstweekday', 'sys', 'timegm', 'week', 'weekday', 'weekheader']\n"
     ]
    }
   ],
   "source": [
    "import calendar as cal\n",
    "print(dir(cal))"
   ]
  },
  {
   "cell_type": "code",
   "execution_count": 2,
   "id": "428cfe9e",
   "metadata": {},
   "outputs": [
    {
     "data": {
      "text/plain": [
       "'Return weekday (0-6 ~ Mon-Sun) for year, month (1-12), day (1-31).'"
      ]
     },
     "execution_count": 2,
     "metadata": {},
     "output_type": "execute_result"
    }
   ],
   "source": [
    "cal.weekday.__doc__"
   ]
  },
  {
   "cell_type": "code",
   "execution_count": 3,
   "id": "a83caf10",
   "metadata": {},
   "outputs": [
    {
     "name": "stdout",
     "output_type": "stream",
     "text": [
      "Help on function weekday in module calendar:\n",
      "\n",
      "weekday(year, month, day)\n",
      "    Return weekday (0-6 ~ Mon-Sun) for year, month (1-12), day (1-31).\n",
      "\n"
     ]
    }
   ],
   "source": [
    "help(cal.weekday)"
   ]
  },
  {
   "cell_type": "code",
   "execution_count": 4,
   "id": "5d49b6ee",
   "metadata": {},
   "outputs": [
    {
     "name": "stdout",
     "output_type": "stream",
     "text": [
      "2\n"
     ]
    }
   ],
   "source": [
    "print(cal.weekday(2021,5,26))"
   ]
  },
  {
   "cell_type": "code",
   "execution_count": 5,
   "id": "61a1f5a4",
   "metadata": {},
   "outputs": [
    {
     "name": "stdout",
     "output_type": "stream",
     "text": [
      "Help on method formatweek in module calendar:\n",
      "\n",
      "formatweek(theweek, width) method of calendar.TextCalendar instance\n",
      "    Returns a single week in a string (no newline).\n",
      "\n"
     ]
    }
   ],
   "source": [
    "help(cal.week)"
   ]
  },
  {
   "cell_type": "code",
   "execution_count": 6,
   "id": "4218773c",
   "metadata": {},
   "outputs": [
    {
     "name": "stdout",
     "output_type": "stream",
     "text": [
      "                                  2021\n",
      "\n",
      "      January                   February                   March\n",
      "Mo Tu We Th Fr Sa Su      Mo Tu We Th Fr Sa Su      Mo Tu We Th Fr Sa Su\n",
      "             1  2  3       1  2  3  4  5  6  7       1  2  3  4  5  6  7\n",
      " 4  5  6  7  8  9 10       8  9 10 11 12 13 14       8  9 10 11 12 13 14\n",
      "11 12 13 14 15 16 17      15 16 17 18 19 20 21      15 16 17 18 19 20 21\n",
      "18 19 20 21 22 23 24      22 23 24 25 26 27 28      22 23 24 25 26 27 28\n",
      "25 26 27 28 29 30 31                                29 30 31\n",
      "\n",
      "       April                      May                       June\n",
      "Mo Tu We Th Fr Sa Su      Mo Tu We Th Fr Sa Su      Mo Tu We Th Fr Sa Su\n",
      "          1  2  3  4                      1  2          1  2  3  4  5  6\n",
      " 5  6  7  8  9 10 11       3  4  5  6  7  8  9       7  8  9 10 11 12 13\n",
      "12 13 14 15 16 17 18      10 11 12 13 14 15 16      14 15 16 17 18 19 20\n",
      "19 20 21 22 23 24 25      17 18 19 20 21 22 23      21 22 23 24 25 26 27\n",
      "26 27 28 29 30            24 25 26 27 28 29 30      28 29 30\n",
      "                          31\n",
      "\n",
      "        July                     August                  September\n",
      "Mo Tu We Th Fr Sa Su      Mo Tu We Th Fr Sa Su      Mo Tu We Th Fr Sa Su\n",
      "          1  2  3  4                         1             1  2  3  4  5\n",
      " 5  6  7  8  9 10 11       2  3  4  5  6  7  8       6  7  8  9 10 11 12\n",
      "12 13 14 15 16 17 18       9 10 11 12 13 14 15      13 14 15 16 17 18 19\n",
      "19 20 21 22 23 24 25      16 17 18 19 20 21 22      20 21 22 23 24 25 26\n",
      "26 27 28 29 30 31         23 24 25 26 27 28 29      27 28 29 30\n",
      "                          30 31\n",
      "\n",
      "      October                   November                  December\n",
      "Mo Tu We Th Fr Sa Su      Mo Tu We Th Fr Sa Su      Mo Tu We Th Fr Sa Su\n",
      "             1  2  3       1  2  3  4  5  6  7             1  2  3  4  5\n",
      " 4  5  6  7  8  9 10       8  9 10 11 12 13 14       6  7  8  9 10 11 12\n",
      "11 12 13 14 15 16 17      15 16 17 18 19 20 21      13 14 15 16 17 18 19\n",
      "18 19 20 21 22 23 24      22 23 24 25 26 27 28      20 21 22 23 24 25 26\n",
      "25 26 27 28 29 30 31      29 30                     27 28 29 30 31\n",
      "\n"
     ]
    }
   ],
   "source": [
    "print(cal.calendar(2021))"
   ]
  },
  {
   "cell_type": "code",
   "execution_count": 7,
   "id": "d1e1838b",
   "metadata": {},
   "outputs": [
    {
     "name": "stdout",
     "output_type": "stream",
     "text": [
      "<module 'datetime' from 'C:\\\\Users\\\\SanjuSruthi\\\\anaconda3\\\\lib\\\\datetime.py'>\n"
     ]
    }
   ],
   "source": [
    "print(cal.datetime)"
   ]
  },
  {
   "cell_type": "code",
   "execution_count": 54,
   "id": "23735857",
   "metadata": {},
   "outputs": [],
   "source": [
    "import os"
   ]
  },
  {
   "cell_type": "code",
   "execution_count": 55,
   "id": "e271baf4",
   "metadata": {},
   "outputs": [
    {
     "name": "stdout",
     "output_type": "stream",
     "text": [
      " Volume in drive C is Windows\n",
      " Volume Serial Number is 58E0-C783\n",
      "\n",
      " Directory of C:\\Users\\SanjuSruthi\\Desktop\\python\n",
      "\n",
      "08-06-2021  17:27    <DIR>          .\n",
      "08-06-2021  17:27    <DIR>          ..\n",
      "07-06-2021  18:05    <DIR>          .ipynb_checkpoints\n",
      "01-06-2021  10:39            21,408 conditional statements,loops in python.ipynb\n",
      "05-06-2021  16:59               292 data.txt\n",
      "05-06-2021  17:06                21 data1.txt\n",
      "05-06-2021  17:16               210 data2.txt\n",
      "05-06-2021  16:30            26,311 dictionaries in python.ipynb\n",
      "05-06-2021  18:22           222,464 file.txt\n",
      "05-06-2021  18:33           386,844 files in python.ipynb\n",
      "07-06-2021  18:20             7,448 functions in python.ipynb\n",
      "02-06-2021  18:56            39,189 lists & tuples in python.ipynb\n",
      "31-05-2021  23:02             2,627 markup using html.ipynb\n",
      "08-06-2021  17:27            14,152 modules & packages in python.ipynb\n",
      "01-06-2021  10:15            10,354 python basics.ipynb\n",
      "04-06-2021  18:30            57,822 sets & functions in python.ipynb\n",
      "01-06-2021  21:36            26,614 strings&lists in python .ipynb\n",
      "              14 File(s)        815,756 bytes\n",
      "               3 Dir(s)  409,105,211,392 bytes free\n"
     ]
    }
   ],
   "source": [
    "ls"
   ]
  },
  {
   "cell_type": "code",
   "execution_count": 56,
   "id": "1a290aca",
   "metadata": {},
   "outputs": [
    {
     "data": {
      "text/plain": [
       "'C:\\\\Users\\\\SanjuSruthi\\\\Desktop\\\\python'"
      ]
     },
     "execution_count": 56,
     "metadata": {},
     "output_type": "execute_result"
    }
   ],
   "source": [
    "pwd"
   ]
  },
  {
   "cell_type": "code",
   "execution_count": 57,
   "id": "70f28c26",
   "metadata": {},
   "outputs": [],
   "source": [
    "mkdir newFolder"
   ]
  },
  {
   "cell_type": "code",
   "execution_count": 8,
   "id": "0b233f1f",
   "metadata": {},
   "outputs": [
    {
     "name": "stdout",
     "output_type": "stream",
     "text": [
      " Volume in drive C is Windows\n",
      " Volume Serial Number is 58E0-C783\n",
      "\n",
      " Directory of C:\\Users\\SanjuSruthi\\Desktop\\python\n",
      "\n",
      "08-06-2021  18:38    <DIR>          .\n",
      "08-06-2021  18:38    <DIR>          ..\n",
      "07-06-2021  18:05    <DIR>          .ipynb_checkpoints\n",
      "08-06-2021  18:03    <DIR>          __pycache__\n",
      "01-06-2021  10:39            21,408 conditional statements,loops in python.ipynb\n",
      "05-06-2021  16:59               292 data.txt\n",
      "08-06-2021  18:07             1,715 data_file.txt\n",
      "05-06-2021  17:06                21 data1.txt\n",
      "05-06-2021  17:16               210 data2.txt\n",
      "05-06-2021  16:30            26,311 dictionaries in python.ipynb\n",
      "05-06-2021  18:22           222,464 file.txt\n",
      "05-06-2021  18:33           386,844 files in python.ipynb\n",
      "08-06-2021  17:30    <DIR>          folderFromPython\n",
      "08-06-2021  18:10             6,202 functions in python.ipynb\n",
      "02-06-2021  18:56            39,189 lists & tuples in python.ipynb\n",
      "31-05-2021  23:02             2,627 markup using html.ipynb\n",
      "08-06-2021  18:38            30,438 modules & packages in python.ipynb\n",
      "08-06-2021  17:29    <DIR>          newFolder\n",
      "08-06-2021  18:19    <DIR>          package\n",
      "01-06-2021  10:15            10,354 python basics.ipynb\n",
      "04-06-2021  18:30            57,822 sets & functions in python.ipynb\n",
      "08-06-2021  18:02                 0 sruthi.py\n",
      "01-06-2021  21:36            26,614 strings&lists in python .ipynb\n",
      "              16 File(s)        832,511 bytes\n",
      "               7 Dir(s)  409,224,663,040 bytes free\n"
     ]
    }
   ],
   "source": [
    "ls"
   ]
  },
  {
   "cell_type": "code",
   "execution_count": 59,
   "id": "6fc874f4",
   "metadata": {},
   "outputs": [],
   "source": [
    "os.mkdir('folderFromPython')"
   ]
  },
  {
   "cell_type": "code",
   "execution_count": 62,
   "id": "41e0da8f",
   "metadata": {},
   "outputs": [
    {
     "data": {
      "text/plain": [
       "['.ipynb_checkpoints',\n",
       " 'conditional statements,loops in python.ipynb',\n",
       " 'data.txt',\n",
       " 'data1.txt',\n",
       " 'data2.txt',\n",
       " 'dictionaries in python.ipynb',\n",
       " 'file.txt',\n",
       " 'files in python.ipynb',\n",
       " 'folderFromPython',\n",
       " 'functions in python.ipynb',\n",
       " 'lists & tuples in python.ipynb',\n",
       " 'markup using html.ipynb',\n",
       " 'modules & packages in python.ipynb',\n",
       " 'newFolder',\n",
       " 'python basics.ipynb',\n",
       " 'sets & functions in python.ipynb',\n",
       " 'strings&lists in python .ipynb']"
      ]
     },
     "execution_count": 62,
     "metadata": {},
     "output_type": "execute_result"
    }
   ],
   "source": [
    "os.listdir()"
   ]
  },
  {
   "cell_type": "code",
   "execution_count": 61,
   "id": "90339266",
   "metadata": {},
   "outputs": [
    {
     "data": {
      "text/plain": [
       "'C:\\\\Users\\\\SanjuSruthi\\\\Desktop\\\\python'"
      ]
     },
     "execution_count": 61,
     "metadata": {},
     "output_type": "execute_result"
    }
   ],
   "source": [
    "os.getcwd()"
   ]
  },
  {
   "cell_type": "code",
   "execution_count": 63,
   "id": "147e5c6e",
   "metadata": {},
   "outputs": [
    {
     "data": {
      "text/plain": [
       "'C:\\\\Users\\\\SanjuSruthi\\\\Desktop\\\\python\\\\newFolder'"
      ]
     },
     "execution_count": 63,
     "metadata": {},
     "output_type": "execute_result"
    }
   ],
   "source": [
    "os.chdir('newFolder')\n",
    "os.getcwd()"
   ]
  },
  {
   "cell_type": "markdown",
   "id": "84d289c4",
   "metadata": {},
   "source": [
    "import module or package-> all the functions,classes,atributes will be imported\n",
    "from package import module -> all the functions,classes,atributes whch are available in that module\n",
    "from package.module import method -> only functions,class,attribute will be imported from package\n",
    "from module import method -> module"
   ]
  },
  {
   "cell_type": "code",
   "execution_count": 64,
   "id": "c163b5e7",
   "metadata": {},
   "outputs": [],
   "source": [
    "import math"
   ]
  },
  {
   "cell_type": "code",
   "execution_count": 65,
   "id": "aee2247b",
   "metadata": {},
   "outputs": [
    {
     "data": {
      "text/plain": [
       "['__doc__',\n",
       " '__loader__',\n",
       " '__name__',\n",
       " '__package__',\n",
       " '__spec__',\n",
       " 'acos',\n",
       " 'acosh',\n",
       " 'asin',\n",
       " 'asinh',\n",
       " 'atan',\n",
       " 'atan2',\n",
       " 'atanh',\n",
       " 'ceil',\n",
       " 'comb',\n",
       " 'copysign',\n",
       " 'cos',\n",
       " 'cosh',\n",
       " 'degrees',\n",
       " 'dist',\n",
       " 'e',\n",
       " 'erf',\n",
       " 'erfc',\n",
       " 'exp',\n",
       " 'expm1',\n",
       " 'fabs',\n",
       " 'factorial',\n",
       " 'floor',\n",
       " 'fmod',\n",
       " 'frexp',\n",
       " 'fsum',\n",
       " 'gamma',\n",
       " 'gcd',\n",
       " 'hypot',\n",
       " 'inf',\n",
       " 'isclose',\n",
       " 'isfinite',\n",
       " 'isinf',\n",
       " 'isnan',\n",
       " 'isqrt',\n",
       " 'ldexp',\n",
       " 'lgamma',\n",
       " 'log',\n",
       " 'log10',\n",
       " 'log1p',\n",
       " 'log2',\n",
       " 'modf',\n",
       " 'nan',\n",
       " 'perm',\n",
       " 'pi',\n",
       " 'pow',\n",
       " 'prod',\n",
       " 'radians',\n",
       " 'remainder',\n",
       " 'sin',\n",
       " 'sinh',\n",
       " 'sqrt',\n",
       " 'tan',\n",
       " 'tanh',\n",
       " 'tau',\n",
       " 'trunc']"
      ]
     },
     "execution_count": 65,
     "metadata": {},
     "output_type": "execute_result"
    }
   ],
   "source": [
    "dir(math)"
   ]
  },
  {
   "cell_type": "code",
   "execution_count": 67,
   "id": "2cefa620",
   "metadata": {},
   "outputs": [
    {
     "name": "stdout",
     "output_type": "stream",
     "text": [
      "['__doc__', '__loader__', '__name__', '__package__', '__spec__', 'acos', 'acosh', 'asin', 'asinh', 'atan', 'atan2', 'atanh', 'ceil', 'comb', 'copysign', 'cos', 'cosh', 'degrees', 'dist', 'e', 'erf', 'erfc', 'exp', 'expm1', 'fabs', 'factorial', 'floor', 'fmod', 'frexp', 'fsum', 'gamma', 'gcd', 'hypot', 'inf', 'isclose', 'isfinite', 'isinf', 'isnan', 'isqrt', 'ldexp', 'lgamma', 'log', 'log10', 'log1p', 'log2', 'modf', 'nan', 'perm', 'pi', 'pow', 'prod', 'radians', 'remainder', 'sin', 'sinh', 'sqrt', 'tan', 'tanh', 'tau', 'trunc']\n"
     ]
    }
   ],
   "source": [
    "import math as m\n",
    "print(dir(m))"
   ]
  },
  {
   "cell_type": "code",
   "execution_count": 69,
   "id": "7769a47b",
   "metadata": {},
   "outputs": [
    {
     "name": "stdout",
     "output_type": "stream",
     "text": [
      "46 26\n"
     ]
    }
   ],
   "source": [
    "from math import ceil,floor\n",
    "print(ceil(45.45),floor(26.98))"
   ]
  },
  {
   "cell_type": "code",
   "execution_count": 70,
   "id": "651f9fa9",
   "metadata": {},
   "outputs": [],
   "source": [
    "from math import *"
   ]
  },
  {
   "cell_type": "code",
   "execution_count": 72,
   "id": "3483d243",
   "metadata": {},
   "outputs": [
    {
     "name": "stdout",
     "output_type": "stream",
     "text": [
      "-0.3048106211022167 403291461126605635584000000\n"
     ]
    }
   ],
   "source": [
    "print(sin(60),factorial(26))"
   ]
  },
  {
   "cell_type": "code",
   "execution_count": 74,
   "id": "27ae6158",
   "metadata": {},
   "outputs": [],
   "source": [
    "from math import *  # floor\n",
    "from random import *  # floor"
   ]
  },
  {
   "cell_type": "code",
   "execution_count": 75,
   "id": "0625ebc5",
   "metadata": {},
   "outputs": [],
   "source": [
    "os.chdir('../')"
   ]
  },
  {
   "cell_type": "code",
   "execution_count": 76,
   "id": "4b9ce535",
   "metadata": {},
   "outputs": [
    {
     "data": {
      "text/plain": [
       "'C:\\\\Users\\\\SanjuSruthi\\\\Desktop\\\\python'"
      ]
     },
     "execution_count": 76,
     "metadata": {},
     "output_type": "execute_result"
    }
   ],
   "source": [
    "os.getcwd()"
   ]
  },
  {
   "cell_type": "code",
   "execution_count": 10,
   "id": "b17e736b",
   "metadata": {},
   "outputs": [],
   "source": [
    "import sruthi"
   ]
  },
  {
   "cell_type": "code",
   "execution_count": 11,
   "id": "c28bc79d",
   "metadata": {},
   "outputs": [
    {
     "data": {
      "text/plain": [
       "' Hey!! Welcome to my module called SRUTHI'"
      ]
     },
     "execution_count": 11,
     "metadata": {},
     "output_type": "execute_result"
    }
   ],
   "source": [
    "sruthi.__doc__"
   ]
  },
  {
   "cell_type": "code",
   "execution_count": 12,
   "id": "d105365e",
   "metadata": {},
   "outputs": [
    {
     "data": {
      "text/plain": [
       "['__builtins__',\n",
       " '__cached__',\n",
       " '__doc__',\n",
       " '__file__',\n",
       " '__loader__',\n",
       " '__name__',\n",
       " '__package__',\n",
       " '__spec__',\n",
       " 'factorial',\n",
       " 'gravity',\n",
       " 'isEven',\n",
       " 'isOdd',\n",
       " 'pi']"
      ]
     },
     "execution_count": 12,
     "metadata": {},
     "output_type": "execute_result"
    }
   ],
   "source": [
    "dir(sruthi)"
   ]
  },
  {
   "cell_type": "code",
   "execution_count": 13,
   "id": "85e18195",
   "metadata": {},
   "outputs": [
    {
     "data": {
      "text/plain": [
       "' check whether a number is even or odd'"
      ]
     },
     "execution_count": 13,
     "metadata": {},
     "output_type": "execute_result"
    }
   ],
   "source": [
    "sruthi.isEven.__doc__"
   ]
  },
  {
   "cell_type": "code",
   "execution_count": 14,
   "id": "50bd85f7",
   "metadata": {},
   "outputs": [
    {
     "data": {
      "text/plain": [
       "3.14"
      ]
     },
     "execution_count": 14,
     "metadata": {},
     "output_type": "execute_result"
    }
   ],
   "source": [
    "sruthi.pi"
   ]
  },
  {
   "cell_type": "code",
   "execution_count": 15,
   "id": "44fdc60f",
   "metadata": {},
   "outputs": [
    {
     "data": {
      "text/plain": [
       "['__builtins__',\n",
       " '__cached__',\n",
       " '__doc__',\n",
       " '__file__',\n",
       " '__loader__',\n",
       " '__name__',\n",
       " '__package__',\n",
       " '__spec__',\n",
       " 'factorial',\n",
       " 'gravity',\n",
       " 'isEven',\n",
       " 'isOdd',\n",
       " 'pi']"
      ]
     },
     "execution_count": 15,
     "metadata": {},
     "output_type": "execute_result"
    }
   ],
   "source": [
    "import sruthi\n",
    "dir(sruthi)"
   ]
  },
  {
   "cell_type": "code",
   "execution_count": 16,
   "id": "29e964d1",
   "metadata": {},
   "outputs": [
    {
     "data": {
      "text/plain": [
       "True"
      ]
     },
     "execution_count": 16,
     "metadata": {},
     "output_type": "execute_result"
    }
   ],
   "source": [
    "sruthi.isOdd(7)"
   ]
  },
  {
   "cell_type": "code",
   "execution_count": 17,
   "id": "cfc8891d",
   "metadata": {},
   "outputs": [
    {
     "data": {
      "text/plain": [
       "False"
      ]
     },
     "execution_count": 17,
     "metadata": {},
     "output_type": "execute_result"
    }
   ],
   "source": [
    "sruthi.isOdd(10)"
   ]
  },
  {
   "cell_type": "code",
   "execution_count": 18,
   "id": "07519a63",
   "metadata": {},
   "outputs": [],
   "source": [
    "import package"
   ]
  },
  {
   "cell_type": "code",
   "execution_count": 19,
   "id": "36c1e321",
   "metadata": {},
   "outputs": [
    {
     "data": {
      "text/plain": [
       "['__doc__',\n",
       " '__file__',\n",
       " '__loader__',\n",
       " '__name__',\n",
       " '__package__',\n",
       " '__path__',\n",
       " '__spec__']"
      ]
     },
     "execution_count": 19,
     "metadata": {},
     "output_type": "execute_result"
    }
   ],
   "source": [
    "dir(package)"
   ]
  },
  {
   "cell_type": "code",
   "execution_count": 21,
   "id": "9190a07f",
   "metadata": {},
   "outputs": [],
   "source": [
    "import package.module1\n",
    "from package import module1 as m"
   ]
  },
  {
   "cell_type": "code",
   "execution_count": 22,
   "id": "eee204aa",
   "metadata": {},
   "outputs": [
    {
     "data": {
      "text/plain": [
       "False"
      ]
     },
     "execution_count": 22,
     "metadata": {},
     "output_type": "execute_result"
    }
   ],
   "source": [
    "m.isEven(9)"
   ]
  },
  {
   "cell_type": "code",
   "execution_count": 23,
   "id": "278ad344",
   "metadata": {},
   "outputs": [
    {
     "data": {
      "text/plain": [
       "True"
      ]
     },
     "execution_count": 23,
     "metadata": {},
     "output_type": "execute_result"
    }
   ],
   "source": [
    "m.isOdd(21)"
   ]
  },
  {
   "cell_type": "code",
   "execution_count": 24,
   "id": "913fa27d",
   "metadata": {},
   "outputs": [],
   "source": [
    "from package import module2 as m2"
   ]
  },
  {
   "cell_type": "code",
   "execution_count": 25,
   "id": "fd3be372",
   "metadata": {},
   "outputs": [
    {
     "data": {
      "text/plain": [
       "False"
      ]
     },
     "execution_count": 25,
     "metadata": {},
     "output_type": "execute_result"
    }
   ],
   "source": [
    "m2.isOdd(22)"
   ]
  }
 ],
 "metadata": {
  "kernelspec": {
   "display_name": "Python 3",
   "language": "python",
   "name": "python3"
  },
  "language_info": {
   "codemirror_mode": {
    "name": "ipython",
    "version": 3
   },
   "file_extension": ".py",
   "mimetype": "text/x-python",
   "name": "python",
   "nbconvert_exporter": "python",
   "pygments_lexer": "ipython3",
   "version": "3.8.8"
  }
 },
 "nbformat": 4,
 "nbformat_minor": 5
}
